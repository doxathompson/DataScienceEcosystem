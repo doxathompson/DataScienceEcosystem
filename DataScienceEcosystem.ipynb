{
 "cells": [
  {
   "cell_type": "markdown",
   "id": "50e3d9c2",
   "metadata": {},
   "source": [
    "# Data Science Tools and Ecosystem"
   ]
  },
  {
   "cell_type": "markdown",
   "id": "47cc4981",
   "metadata": {},
   "source": [
    "In this notebook, Data Science Tools and Ecosystem are summarized."
   ]
  },
  {
   "cell_type": "markdown",
   "id": "23f17178",
   "metadata": {},
   "source": [
    "Objectives:\n",
    "- Popular languages in Data Science\n",
    "- Libraries in Data Science\n",
    "- Data Science tools"
   ]
  },
  {
   "cell_type": "markdown",
   "id": "7747b152",
   "metadata": {},
   "source": [
    "Some of the popular languages that Data Scientists use are:\n",
    "1. Python \n",
    "2. R\n",
    "3. Julia"
   ]
  },
  {
   "cell_type": "markdown",
   "id": "1db94ddb",
   "metadata": {},
   "source": [
    "Some of the commonly used libraries used by Data Scientists include:\n",
    "1. Numpy\n",
    "2. Pandas\n",
    "3. Matplotlib\n",
    "4. Seaborn"
   ]
  },
  {
   "cell_type": "markdown",
   "id": "0f220d7e",
   "metadata": {},
   "source": [
    "Data Science Tools\n",
    "\n",
    "1. RStudio\n",
    "2. Tensorflow\n",
    "3. Aparche Spark"
   ]
  },
  {
   "cell_type": "markdown",
   "id": "326588b2",
   "metadata": {},
   "source": [
    "This a simple arithmetic expression to mutiply then add integers"
   ]
  },
  {
   "cell_type": "code",
   "execution_count": 4,
   "id": "54afe16d",
   "metadata": {},
   "outputs": [],
   "source": [
    "exp = (3*4)+5"
   ]
  },
  {
   "cell_type": "code",
   "execution_count": 5,
   "id": "e3c81cc4",
   "metadata": {},
   "outputs": [
    {
     "name": "stdout",
     "output_type": "stream",
     "text": [
      "17\n"
     ]
    }
   ],
   "source": [
    "print(exp)"
   ]
  },
  {
   "cell_type": "markdown",
   "id": "98373b94",
   "metadata": {},
   "source": [
    "This will convert 200 minutes to hours by diving by 60"
   ]
  },
  {
   "cell_type": "code",
   "execution_count": 9,
   "id": "189506f5",
   "metadata": {},
   "outputs": [],
   "source": [
    "hourstominutes = 200/60"
   ]
  },
  {
   "cell_type": "code",
   "execution_count": 10,
   "id": "cb7dc84d",
   "metadata": {},
   "outputs": [
    {
     "name": "stdout",
     "output_type": "stream",
     "text": [
      "3.3333333333333335\n"
     ]
    }
   ],
   "source": [
    "print(hourstominutes)"
   ]
  },
  {
   "cell_type": "markdown",
   "id": "78fe2168",
   "metadata": {},
   "source": [
    "## Author\n",
    "Doxa Thompson"
   ]
  },
  {
   "cell_type": "code",
   "execution_count": null,
   "id": "2c3b1b96",
   "metadata": {},
   "outputs": [],
   "source": []
  }
 ],
 "metadata": {
  "kernelspec": {
   "display_name": "Python 3 (ipykernel)",
   "language": "python",
   "name": "python3"
  },
  "language_info": {
   "codemirror_mode": {
    "name": "ipython",
    "version": 3
   },
   "file_extension": ".py",
   "mimetype": "text/x-python",
   "name": "python",
   "nbconvert_exporter": "python",
   "pygments_lexer": "ipython3",
   "version": "3.10.9"
  }
 },
 "nbformat": 4,
 "nbformat_minor": 5
}
